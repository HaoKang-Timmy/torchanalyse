{
 "cells": [
  {
   "cell_type": "code",
   "execution_count": null,
   "metadata": {},
   "outputs": [],
   "source": [
    "! pip install torchanalyse"
   ]
  },
  {
   "cell_type": "code",
   "execution_count": null,
   "metadata": {},
   "outputs": [],
   "source": [
    "from torchanalyse import profiler, System, Unit\n",
    "import torch.nn as nn\n",
    "import torch\n",
    "import pandas as pd\n",
    "import torchvision\n",
    "\n",
    "if __name__ == \"__main__\":\n",
    "    unit = Unit()\n",
    "    system = System(\n",
    "        unit,\n",
    "        frequency=940,\n",
    "        flops=123,\n",
    "        onchip_mem_bw=900,\n",
    "        pe_min_density_support=0.0001,\n",
    "        accelerator_type=\"structured\",\n",
    "        model_on_chip_mem_implications=False,\n",
    "        on_chip_mem_size=32,\n",
    "    )\n",
    "    in_features = 16\n",
    "    out_features = 32\n",
    "\n",
    "    model = torchvision.models.AlexNet()\n",
    "    inputs = torch.randn(1, 3, 224, 224)\n",
    "    df = profiler(model, inputs, system, unit)\n",
    "    df.to_csv(\"./test.csv\")\n",
    "\n",
    "    display(df)\n"
   ]
  }
 ],
 "metadata": {
  "language_info": {
   "name": "python"
  },
  "orig_nbformat": 4
 },
 "nbformat": 4,
 "nbformat_minor": 2
}
