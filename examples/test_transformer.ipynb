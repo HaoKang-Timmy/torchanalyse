{
 "cells": [
  {
   "cell_type": "code",
   "execution_count": null,
   "metadata": {},
   "outputs": [],
   "source": [
    "! pip install torchanalyse"
   ]
  },
  {
   "cell_type": "code",
   "execution_count": null,
   "metadata": {},
   "outputs": [],
   "source": [
    "import torch\n",
    "from torch.nn.modules.transformer import Transformer\n",
    "from torch.nn.modules.transformer import Transformer\n",
    "from torchanalyse import profiler, System, Unit\n",
    "\n",
    "if __name__ == \"__main__\":\n",
    "    embed_size = 512\n",
    "    num_tokens = 30\n",
    "    unit = Unit()\n",
    "    system = System(\n",
    "        unit,\n",
    "        frequency=940,\n",
    "        flops=123,\n",
    "        onchip_mem_bw=900,\n",
    "        pe_min_density_support=0.0001,\n",
    "        accelerator_type=\"structured\",\n",
    "        model_on_chip_mem_implications=False,\n",
    "        on_chip_mem_size=32,\n",
    "    )\n",
    "    model = Transformer(embed_size)\n",
    "    inputs = (\n",
    "        torch.randn(num_tokens, 1, embed_size),\n",
    "        torch.randn(num_tokens, 1, embed_size),\n",
    "    )\n",
    "\n",
    "    # macs = profile_macs(model, inputs)\n",
    "    # print('transformer: {:.4g} G'.format(macs / 1e9))\n",
    "    op_df = profiler(model, inputs, system, unit)\n",
    "    display(op_df)\n"
   ]
  }
 ],
 "metadata": {
  "language_info": {
   "name": "python"
  },
  "orig_nbformat": 4
 },
 "nbformat": 4,
 "nbformat_minor": 2
}
